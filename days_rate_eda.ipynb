{
 "cells": [
  {
   "cell_type": "code",
   "execution_count": 2,
   "metadata": {},
   "outputs": [],
   "source": [
    "from pyspark.sql import *\n",
    "from pyspark import SparkContext"
   ]
  },
  {
   "cell_type": "code",
   "execution_count": 3,
   "metadata": {},
   "outputs": [],
   "source": [
    "import numpy as np\n",
    "import pandas as pd\n",
    "import seaborn as sns\n",
    "import matplotlib.pyplot as plt"
   ]
  },
  {
   "cell_type": "code",
   "execution_count": 4,
   "metadata": {},
   "outputs": [],
   "source": [
    "sc = SparkContext(\"local\", \"First\")\n",
    "spark = SparkSession.builder.master(\"local\").appName(\"First\").config(\"spark.some.config.option\", \"some-value\").getOrCreate()"
   ]
  },
  {
   "cell_type": "code",
   "execution_count": 5,
   "metadata": {},
   "outputs": [
    {
     "name": "stdout",
     "output_type": "stream",
     "text": [
      "+--------------------+-------------------+-------------------+-------------------+----------------+----+\n",
      "|            order_id|           purchase|           delivery|          estimated|      difference|rate|\n",
      "+--------------------+-------------------+-------------------+-------------------+----------------+----+\n",
      "|8e6bfb81e283fa7e4...|2018-02-10 10:59:03|2018-02-28 16:33:35|2018-03-09 00:00:00| 8 days 07:26:25|   5|\n",
      "|b18dcdf73be663668...|2018-04-06 22:18:54|2018-04-12 17:17:53|2018-05-03 00:00:00|20 days 06:42:07|   1|\n",
      "|e48aa0d2dcec3a2e8...|2017-06-30 15:38:46|2017-07-15 12:57:24|2017-08-03 00:00:00|18 days 11:02:36|   5|\n",
      "|c31a859e34e3adac2...|2018-08-07 23:12:29|2018-08-13 18:08:28|2018-10-10 00:00:00|57 days 05:51:32|   5|\n",
      "|0ce9a24111d850192...|2017-11-24 01:40:48|2017-12-13 00:28:44|2017-12-19 00:00:00| 5 days 23:31:16|   1|\n",
      "|8ba3f3a9292fbc22a...|2017-07-07 10:07:16|2017-07-18 23:16:44|2017-07-31 00:00:00|12 days 00:43:16|   5|\n",
      "|c186ebe3937470a2f...|2017-11-27 13:33:35|2017-12-04 20:33:19|2017-12-14 00:00:00| 9 days 03:26:41|   5|\n",
      "|a6456e781cb962cc3...|2018-06-10 13:45:22|2018-06-12 20:02:44|2018-06-20 00:00:00| 7 days 03:57:16|   5|\n",
      "|f3a9c397a2fa5a236...|2018-02-26 18:45:14|2018-03-10 01:21:55|2018-03-19 00:00:00| 8 days 22:38:05|   5|\n",
      "|4d483bf690ca21bdc...|2017-03-16 21:16:46|2017-03-20 10:32:31|2017-04-04 00:00:00|14 days 13:27:29|   5|\n",
      "+--------------------+-------------------+-------------------+-------------------+----------------+----+\n",
      "only showing top 10 rows\n",
      "\n"
     ]
    }
   ],
   "source": [
    "df = spark.read.format(\"csv\").option(\"header\", \"false\").load(\"file:///home/fatory/sber/week_3/delivery\")\n",
    "df=df.selectExpr(\"_c0 as order_id\", \"_c1 as purchase\", \"_c2 as delivery\", \"_c3 as estimated\", \"_c4 as difference\",\n",
    "                \"_c5 as rate\")\n",
    "df.show(10, truncate = True)"
   ]
  },
  {
   "cell_type": "code",
   "execution_count": 24,
   "metadata": {},
   "outputs": [
    {
     "name": "stdout",
     "output_type": "stream",
     "text": [
      "<class 'pandas.core.frame.DataFrame'>\n",
      "Int64Index: 97013 entries, 0 to 99999\n",
      "Data columns (total 7 columns):\n",
      "order_id      97013 non-null object\n",
      "purchase      97013 non-null object\n",
      "delivery      97013 non-null object\n",
      "estimated     97013 non-null object\n",
      "difference    97013 non-null object\n",
      "rate          97013 non-null int64\n",
      "days          97013 non-null int64\n",
      "dtypes: int64(2), object(5)\n",
      "memory usage: 5.9+ MB\n"
     ]
    }
   ],
   "source": [
    "dfp = df.toPandas()\n",
    "dfp = dfp.dropna()\n",
    "\n",
    "dfp['days'] = dfp['difference'].apply(lambda x :0 if len(x.split(' ')) == 1 else x.split(' ')[0])\n",
    "\n",
    "dfp['days'] = dfp['days'].astype(int)\n",
    "dfp['rate'] = dfp['rate'].astype(int)\n",
    "\n",
    "dfp.info()"
   ]
  },
  {
   "cell_type": "code",
   "execution_count": 37,
   "metadata": {},
   "outputs": [
    {
     "data": {
      "image/png": "[encoded data removed]",
      "text/plain": [
       "<Figure size 432x288 with 1 Axes>"
      ]
     },
     "metadata": {},
     "output_type": "display_data"
    }
   ],
   "source": [
    "sns.boxplot(data = dfp, x = \"rate\", y = \"days\");"
   ]
  },
  {
   "cell_type": "code",
   "execution_count": 42,
   "metadata": {},
   "outputs": [
    {
     "name": "stdout",
     "output_type": "stream",
     "text": [
      "<class 'pandas.core.frame.DataFrame'>\n",
      "Int64Index: 9701 entries, 64486 to 69538\n",
      "Data columns (total 7 columns):\n",
      "order_id      9701 non-null object\n",
      "purchase      9701 non-null object\n",
      "delivery      9701 non-null object\n",
      "estimated     9701 non-null object\n",
      "difference    9701 non-null object\n",
      "rate          9701 non-null int64\n",
      "days          9701 non-null int64\n",
      "dtypes: int64(2), object(5)\n",
      "memory usage: 606.3+ KB\n"
     ]
    },
    {
     "data": {
      "image/png": "[encoded data removed]",
      "text/plain": [
       "<Figure size 432x288 with 1 Axes>"
      ]
     },
     "metadata": {},
     "output_type": "display_data"
    }
   ],
   "source": [
    "import random\n",
    "\n",
    "dfp_sample = dfp.sample(frac=0.1)\n",
    "dfp_sample.info()\n",
    "\n",
    "sns.boxplot(data = dfp_sample[np.abs(dfp_sample['days']) < 30], x = \"rate\", y = \"days\");"
   ]
  }
 ],
 "metadata": {
  "kernelspec": {
   "display_name": "Python 3",
   "language": "python",
   "name": "python3"
  },
  "language_info": {
   "codemirror_mode": {
    "name": "ipython",
    "version": 3
   },
   "file_extension": ".py",
   "mimetype": "text/x-python",
   "name": "python",
   "nbconvert_exporter": "python",
   "pygments_lexer": "ipython3",
   "version": "3.6.5"
  }
 },
 "nbformat": 4,
 "nbformat_minor": 2
}
