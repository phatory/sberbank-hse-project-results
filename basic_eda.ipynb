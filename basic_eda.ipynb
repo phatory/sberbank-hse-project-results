{
 "cells": [
  {
   "cell_type": "code",
   "execution_count": 1,
   "metadata": {},
   "outputs": [],
   "source": [
    "import numpy as np\n",
    "import pandas as pd\n",
    "import seaborn as sns"
   ]
  },
  {
   "cell_type": "markdown",
   "metadata": {},
   "source": [
    "С помощью pgSQL я выбрала нужные мне данные:"
   ]
  },
  {
   "cell_type": "code",
   "execution_count": 2,
   "metadata": {},
   "outputs": [],
   "source": [
    "df = pd.read_csv(\"table2\", names = [\"Order ID\", \"Seller ID\", \"Product ID\", \"Price\", \"Category\", \"Customer ID\", \"City\", \"State\"])"
   ]
  },
  {
   "cell_type": "code",
   "execution_count": 3,
   "metadata": {},
   "outputs": [
    {
     "data": {
      "text/html": [
       "<div>\n",
       "<style scoped>\n",
       "    .dataframe tbody tr th:only-of-type {\n",
       "        vertical-align: middle;\n",
       "    }\n",
       "\n",
       "    .dataframe tbody tr th {\n",
       "        vertical-align: top;\n",
       "    }\n",
       "\n",
       "    .dataframe thead th {\n",
       "        text-align: right;\n",
       "    }\n",
       "</style>\n",
       "<table border=\"1\" class=\"dataframe\">\n",
       "  <thead>\n",
       "    <tr style=\"text-align: right;\">\n",
       "      <th></th>\n",
       "      <th>Order ID</th>\n",
       "      <th>Seller ID</th>\n",
       "      <th>Product ID</th>\n",
       "      <th>Price</th>\n",
       "      <th>Category</th>\n",
       "      <th>Customer ID</th>\n",
       "      <th>City</th>\n",
       "      <th>State</th>\n",
       "    </tr>\n",
       "  </thead>\n",
       "  <tbody>\n",
       "    <tr>\n",
       "      <th>0</th>\n",
       "      <td>00018f77f2f0320c557190d7a144bdd3</td>\n",
       "      <td>dd7ddc04e1b6c2c614352b383efe2d36</td>\n",
       "      <td>e5f2d52b802189ee658865ca93d83a8f</td>\n",
       "      <td>239.90</td>\n",
       "      <td>pet_shop</td>\n",
       "      <td>f6dd3ec061db4e3987629fe6b26e5cce</td>\n",
       "      <td>santa fe do sul</td>\n",
       "      <td>SP</td>\n",
       "    </tr>\n",
       "    <tr>\n",
       "      <th>1</th>\n",
       "      <td>000229ec398224ef6ca0657da4fc703e</td>\n",
       "      <td>5b51032eddd242adc84c38acab88f23d</td>\n",
       "      <td>c777355d18b72b67abbeef9df44fd0fd</td>\n",
       "      <td>199.00</td>\n",
       "      <td>furniture_decor</td>\n",
       "      <td>6489ae5e4333f3693df5ad4372dab6d3</td>\n",
       "      <td>para de minas</td>\n",
       "      <td>MG</td>\n",
       "    </tr>\n",
       "    <tr>\n",
       "      <th>2</th>\n",
       "      <td>00048cc3ae777c65dbb7d2a0634bc1ea</td>\n",
       "      <td>6426d21aca402a131fc0a5d0960a3c90</td>\n",
       "      <td>ef92defde845ab8450f9d70c526ef70f</td>\n",
       "      <td>21.90</td>\n",
       "      <td>housewares</td>\n",
       "      <td>816cbea969fe5b689b39cfc97a506742</td>\n",
       "      <td>uberaba</td>\n",
       "      <td>MG</td>\n",
       "    </tr>\n",
       "    <tr>\n",
       "      <th>3</th>\n",
       "      <td>0005a1a1728c9d785b8e2b08b904576c</td>\n",
       "      <td>a416b6a846a11724393025641d4edd5e</td>\n",
       "      <td>310ae3c140ff94b03219ad0adc3c778f</td>\n",
       "      <td>145.95</td>\n",
       "      <td>health_beauty</td>\n",
       "      <td>16150771dfd4776261284213b89c304e</td>\n",
       "      <td>santos</td>\n",
       "      <td>SP</td>\n",
       "    </tr>\n",
       "    <tr>\n",
       "      <th>4</th>\n",
       "      <td>00061f2a7bc09da83e415a52dc8a4af1</td>\n",
       "      <td>cc419e0650a3c5ba77189a1882b7556a</td>\n",
       "      <td>d63c1011f49d98b976c352955b1c4bea</td>\n",
       "      <td>59.99</td>\n",
       "      <td>health_beauty</td>\n",
       "      <td>c6fc061d86fab1e2b2eac259bac71a49</td>\n",
       "      <td>piracicaba</td>\n",
       "      <td>SP</td>\n",
       "    </tr>\n",
       "    <tr>\n",
       "      <th>5</th>\n",
       "      <td>0006ec9db01a64e59a68b2c340bf65a7</td>\n",
       "      <td>4a3ca9315b744ce9f8e9374361493884</td>\n",
       "      <td>99a4788cb24856965c36a24e339b6058</td>\n",
       "      <td>74.00</td>\n",
       "      <td>bed_bath_table</td>\n",
       "      <td>5d178120c29c61748ea95bac23cb8f25</td>\n",
       "      <td>rio de janeiro</td>\n",
       "      <td>RJ</td>\n",
       "    </tr>\n",
       "    <tr>\n",
       "      <th>6</th>\n",
       "      <td>0009c9a17f916a706d71784483a5d643</td>\n",
       "      <td>fcb5ace8bcc92f75707dc0f01a27d269</td>\n",
       "      <td>3f27ac8e699df3d300ec4a5d8c5cf0b2</td>\n",
       "      <td>639.00</td>\n",
       "      <td>consoles_games</td>\n",
       "      <td>8a250edc40ebc5c3940ebc940f16a7eb</td>\n",
       "      <td>campinas</td>\n",
       "      <td>SP</td>\n",
       "    </tr>\n",
       "    <tr>\n",
       "      <th>7</th>\n",
       "      <td>000e906b789b55f64edcb1f84030f90d</td>\n",
       "      <td>ea8482cd71df3c1969d7b9473ff13abc</td>\n",
       "      <td>57d79905de06d8897872c551bfd09358</td>\n",
       "      <td>21.99</td>\n",
       "      <td>telephony</td>\n",
       "      <td>6a3b2fc9f270df258605e22bef19fd88</td>\n",
       "      <td>santa cruz do rio pardo</td>\n",
       "      <td>SP</td>\n",
       "    </tr>\n",
       "    <tr>\n",
       "      <th>8</th>\n",
       "      <td>000f25f4d72195062c040b12dce9a18a</td>\n",
       "      <td>7c67e1448b00f6e969d365cea6b010ab</td>\n",
       "      <td>1c05e0964302b6cf68ca0d15f326c6ba</td>\n",
       "      <td>119.99</td>\n",
       "      <td>office_furniture</td>\n",
       "      <td>86ade8ebc14f18dd6c3ea75bd0eb7534</td>\n",
       "      <td>volta redonda</td>\n",
       "      <td>RJ</td>\n",
       "    </tr>\n",
       "    <tr>\n",
       "      <th>9</th>\n",
       "      <td>0014ae671de39511f7575066200733b7</td>\n",
       "      <td>92eb0f42c21942b6552362b9b114707d</td>\n",
       "      <td>23365beed316535b4105bd800c46670e</td>\n",
       "      <td>16.50</td>\n",
       "      <td>telephony</td>\n",
       "      <td>41065d9dcea52218c3943d2eed072b97</td>\n",
       "      <td>pinhais</td>\n",
       "      <td>PR</td>\n",
       "    </tr>\n",
       "  </tbody>\n",
       "</table>\n",
       "</div>"
      ],
      "text/plain": [
       "                           Order ID                         Seller ID  \\\n",
       "0  00018f77f2f0320c557190d7a144bdd3  dd7ddc04e1b6c2c614352b383efe2d36   \n",
       "1  000229ec398224ef6ca0657da4fc703e  5b51032eddd242adc84c38acab88f23d   \n",
       "2  00048cc3ae777c65dbb7d2a0634bc1ea  6426d21aca402a131fc0a5d0960a3c90   \n",
       "3  0005a1a1728c9d785b8e2b08b904576c  a416b6a846a11724393025641d4edd5e   \n",
       "4  00061f2a7bc09da83e415a52dc8a4af1  cc419e0650a3c5ba77189a1882b7556a   \n",
       "5  0006ec9db01a64e59a68b2c340bf65a7  4a3ca9315b744ce9f8e9374361493884   \n",
       "6  0009c9a17f916a706d71784483a5d643  fcb5ace8bcc92f75707dc0f01a27d269   \n",
       "7  000e906b789b55f64edcb1f84030f90d  ea8482cd71df3c1969d7b9473ff13abc   \n",
       "8  000f25f4d72195062c040b12dce9a18a  7c67e1448b00f6e969d365cea6b010ab   \n",
       "9  0014ae671de39511f7575066200733b7  92eb0f42c21942b6552362b9b114707d   \n",
       "\n",
       "                         Product ID   Price          Category  \\\n",
       "0  e5f2d52b802189ee658865ca93d83a8f  239.90          pet_shop   \n",
       "1  c777355d18b72b67abbeef9df44fd0fd  199.00   furniture_decor   \n",
       "2  ef92defde845ab8450f9d70c526ef70f   21.90        housewares   \n",
       "3  310ae3c140ff94b03219ad0adc3c778f  145.95     health_beauty   \n",
       "4  d63c1011f49d98b976c352955b1c4bea   59.99     health_beauty   \n",
       "5  99a4788cb24856965c36a24e339b6058   74.00    bed_bath_table   \n",
       "6  3f27ac8e699df3d300ec4a5d8c5cf0b2  639.00    consoles_games   \n",
       "7  57d79905de06d8897872c551bfd09358   21.99         telephony   \n",
       "8  1c05e0964302b6cf68ca0d15f326c6ba  119.99  office_furniture   \n",
       "9  23365beed316535b4105bd800c46670e   16.50         telephony   \n",
       "\n",
       "                        Customer ID                     City State  \n",
       "0  f6dd3ec061db4e3987629fe6b26e5cce          santa fe do sul    SP  \n",
       "1  6489ae5e4333f3693df5ad4372dab6d3            para de minas    MG  \n",
       "2  816cbea969fe5b689b39cfc97a506742                  uberaba    MG  \n",
       "3  16150771dfd4776261284213b89c304e                   santos    SP  \n",
       "4  c6fc061d86fab1e2b2eac259bac71a49               piracicaba    SP  \n",
       "5  5d178120c29c61748ea95bac23cb8f25           rio de janeiro    RJ  \n",
       "6  8a250edc40ebc5c3940ebc940f16a7eb                 campinas    SP  \n",
       "7  6a3b2fc9f270df258605e22bef19fd88  santa cruz do rio pardo    SP  \n",
       "8  86ade8ebc14f18dd6c3ea75bd0eb7534            volta redonda    RJ  \n",
       "9  41065d9dcea52218c3943d2eed072b97                  pinhais    PR  "
      ]
     },
     "execution_count": 3,
     "metadata": {},
     "output_type": "execute_result"
    }
   ],
   "source": [
    "df.head(10)"
   ]
  },
  {
   "cell_type": "markdown",
   "metadata": {},
   "source": [
    "Пропущенных данных нет. Из всех признаков только один количественный - цена продукта. Остальные категориальные."
   ]
  },
  {
   "cell_type": "code",
   "execution_count": 4,
   "metadata": {},
   "outputs": [
    {
     "name": "stdout",
     "output_type": "stream",
     "text": [
      "<class 'pandas.core.frame.DataFrame'>\n",
      "RangeIndex: 111023 entries, 0 to 111022\n",
      "Data columns (total 8 columns):\n",
      "Order ID       111023 non-null object\n",
      "Seller ID      111023 non-null object\n",
      "Product ID     111023 non-null object\n",
      "Price          111023 non-null float64\n",
      "Category       111023 non-null object\n",
      "Customer ID    111023 non-null object\n",
      "City           111023 non-null object\n",
      "State          111023 non-null object\n",
      "dtypes: float64(1), object(7)\n",
      "memory usage: 6.8+ MB\n"
     ]
    }
   ],
   "source": [
    "df.info()"
   ]
  },
  {
   "cell_type": "markdown",
   "metadata": {},
   "source": [
    "Смотрим на распределение цен. Я ограничила их, для большей наглядности. Больше 1500 всего 325 продуктов, что составляет ~ 0.3%."
   ]
  },
  {
   "cell_type": "code",
   "execution_count": 5,
   "metadata": {},
   "outputs": [
    {
     "data": {
      "image/png": "[encoded data removed]",
      "text/plain": [
       "<Figure size 720x432 with 1 Axes>"
      ]
     },
     "metadata": {},
     "output_type": "display_data"
    }
   ],
   "source": [
    "price = df['Price']\n",
    "sns.set(rc={'figure.figsize':(10, 6)})\n",
    "sns.distplot(price[price < 1500], kde=False);"
   ]
  },
  {
   "cell_type": "markdown",
   "metadata": {},
   "source": [
    "Здесь хорошо видно, что чаще всего покупают продукты в диапазоне 50-100. Значительно меньше заказов продуктов цены выше 200. На графике видны выбыросы."
   ]
  },
  {
   "cell_type": "code",
   "execution_count": 6,
   "metadata": {},
   "outputs": [
    {
     "data": {
      "text/plain": [
       "count    111023.000000\n",
       "mean        120.755104\n",
       "std         183.372746\n",
       "min           0.850000\n",
       "25%          39.900000\n",
       "50%          74.990000\n",
       "75%         134.900000\n",
       "max        6735.000000\n",
       "Name: Price, dtype: float64"
      ]
     },
     "execution_count": 6,
     "metadata": {},
     "output_type": "execute_result"
    }
   ],
   "source": [
    "price.describe()"
   ]
  },
  {
   "cell_type": "code",
   "execution_count": 7,
   "metadata": {},
   "outputs": [
    {
     "data": {
      "text/plain": [
       "<matplotlib.axes._subplots.AxesSubplot at 0x7fc1c6fc28d0>"
      ]
     },
     "execution_count": 7,
     "metadata": {},
     "output_type": "execute_result"
    },
    {
     "data": {
      "image/png": "[encoded data removed]",
      "text/plain": [
       "<Figure size 720x432 with 1 Axes>"
      ]
     },
     "metadata": {},
     "output_type": "display_data"
    }
   ],
   "source": [
    "sns.boxplot(price)"
   ]
  },
  {
   "cell_type": "markdown",
   "metadata": {},
   "source": [
    "Количество купленных продуктов каждой категории:"
   ]
  },
  {
   "cell_type": "code",
   "execution_count": 8,
   "metadata": {},
   "outputs": [
    {
     "data": {
      "text/html": [
       "<div>\n",
       "<style scoped>\n",
       "    .dataframe tbody tr th:only-of-type {\n",
       "        vertical-align: middle;\n",
       "    }\n",
       "\n",
       "    .dataframe tbody tr th {\n",
       "        vertical-align: top;\n",
       "    }\n",
       "\n",
       "    .dataframe thead th {\n",
       "        text-align: right;\n",
       "    }\n",
       "</style>\n",
       "<table border=\"1\" class=\"dataframe\">\n",
       "  <thead>\n",
       "    <tr style=\"text-align: right;\">\n",
       "      <th></th>\n",
       "      <th>Category</th>\n",
       "      <th>Category in English</th>\n",
       "      <th>Num of orders</th>\n",
       "    </tr>\n",
       "  </thead>\n",
       "  <tbody>\n",
       "    <tr>\n",
       "      <th>0</th>\n",
       "      <td>cama_mesa_banho</td>\n",
       "      <td>bed_bath_table</td>\n",
       "      <td>11115</td>\n",
       "    </tr>\n",
       "    <tr>\n",
       "      <th>1</th>\n",
       "      <td>beleza_saude</td>\n",
       "      <td>health_beauty</td>\n",
       "      <td>9670</td>\n",
       "    </tr>\n",
       "    <tr>\n",
       "      <th>2</th>\n",
       "      <td>esporte_lazer</td>\n",
       "      <td>sports_leisure</td>\n",
       "      <td>8641</td>\n",
       "    </tr>\n",
       "    <tr>\n",
       "      <th>3</th>\n",
       "      <td>moveis_decoracao</td>\n",
       "      <td>furniture_decor</td>\n",
       "      <td>8334</td>\n",
       "    </tr>\n",
       "    <tr>\n",
       "      <th>4</th>\n",
       "      <td>informatica_acessorios</td>\n",
       "      <td>computers_accessories</td>\n",
       "      <td>7827</td>\n",
       "    </tr>\n",
       "    <tr>\n",
       "      <th>5</th>\n",
       "      <td>utilidades_domesticas</td>\n",
       "      <td>housewares</td>\n",
       "      <td>6964</td>\n",
       "    </tr>\n",
       "    <tr>\n",
       "      <th>6</th>\n",
       "      <td>relogios_presentes</td>\n",
       "      <td>watches_gifts</td>\n",
       "      <td>5991</td>\n",
       "    </tr>\n",
       "    <tr>\n",
       "      <th>7</th>\n",
       "      <td>telefonia</td>\n",
       "      <td>telephony</td>\n",
       "      <td>4545</td>\n",
       "    </tr>\n",
       "    <tr>\n",
       "      <th>8</th>\n",
       "      <td>ferramentas_jardim</td>\n",
       "      <td>garden_tools</td>\n",
       "      <td>4347</td>\n",
       "    </tr>\n",
       "    <tr>\n",
       "      <th>9</th>\n",
       "      <td>automotivo</td>\n",
       "      <td>auto</td>\n",
       "      <td>4235</td>\n",
       "    </tr>\n",
       "  </tbody>\n",
       "</table>\n",
       "</div>"
      ],
      "text/plain": [
       "                 Category    Category in English  Num of orders\n",
       "0         cama_mesa_banho         bed_bath_table          11115\n",
       "1            beleza_saude          health_beauty           9670\n",
       "2           esporte_lazer         sports_leisure           8641\n",
       "3        moveis_decoracao        furniture_decor           8334\n",
       "4  informatica_acessorios  computers_accessories           7827\n",
       "5   utilidades_domesticas             housewares           6964\n",
       "6      relogios_presentes          watches_gifts           5991\n",
       "7               telefonia              telephony           4545\n",
       "8      ferramentas_jardim           garden_tools           4347\n",
       "9              automotivo                   auto           4235"
      ]
     },
     "execution_count": 8,
     "metadata": {},
     "output_type": "execute_result"
    }
   ],
   "source": [
    "num_prod = pd.read_csv(\"countpr\", names = [\"Category\", \"Category in English\", \"Num of orders\"])\n",
    "num_prod.head(10)"
   ]
  },
  {
   "cell_type": "markdown",
   "metadata": {},
   "source": [
    "Здесь видно, что в основном в магазине заказывали не больше одного раза. Однако, есть люди, производившие до 21 заказов. Интересно будет потом посмотреть, как менялся этот показатель по годам. Выросло ли доверие у людей к магазину после первой покупки?"
   ]
  },
  {
   "cell_type": "code",
   "execution_count": 9,
   "metadata": {},
   "outputs": [
    {
     "data": {
      "text/html": [
       "<div>\n",
       "<style scoped>\n",
       "    .dataframe tbody tr th:only-of-type {\n",
       "        vertical-align: middle;\n",
       "    }\n",
       "\n",
       "    .dataframe tbody tr th {\n",
       "        vertical-align: top;\n",
       "    }\n",
       "\n",
       "    .dataframe thead th {\n",
       "        text-align: right;\n",
       "    }\n",
       "</style>\n",
       "<table border=\"1\" class=\"dataframe\">\n",
       "  <thead>\n",
       "    <tr style=\"text-align: right;\">\n",
       "      <th></th>\n",
       "      <th>0</th>\n",
       "    </tr>\n",
       "  </thead>\n",
       "  <tbody>\n",
       "    <tr>\n",
       "      <th>count</th>\n",
       "      <td>97256.000000</td>\n",
       "    </tr>\n",
       "    <tr>\n",
       "      <th>mean</th>\n",
       "      <td>1.141554</td>\n",
       "    </tr>\n",
       "    <tr>\n",
       "      <th>std</th>\n",
       "      <td>0.538252</td>\n",
       "    </tr>\n",
       "    <tr>\n",
       "      <th>min</th>\n",
       "      <td>1.000000</td>\n",
       "    </tr>\n",
       "    <tr>\n",
       "      <th>25%</th>\n",
       "      <td>1.000000</td>\n",
       "    </tr>\n",
       "    <tr>\n",
       "      <th>50%</th>\n",
       "      <td>1.000000</td>\n",
       "    </tr>\n",
       "    <tr>\n",
       "      <th>75%</th>\n",
       "      <td>1.000000</td>\n",
       "    </tr>\n",
       "    <tr>\n",
       "      <th>max</th>\n",
       "      <td>21.000000</td>\n",
       "    </tr>\n",
       "  </tbody>\n",
       "</table>\n",
       "</div>"
      ],
      "text/plain": [
       "                  0\n",
       "count  97256.000000\n",
       "mean       1.141554\n",
       "std        0.538252\n",
       "min        1.000000\n",
       "25%        1.000000\n",
       "50%        1.000000\n",
       "75%        1.000000\n",
       "max       21.000000"
      ]
     },
     "execution_count": 9,
     "metadata": {},
     "output_type": "execute_result"
    }
   ],
   "source": [
    "fr = df[\"Customer ID\"].value_counts()\n",
    "frdf = pd.DataFrame(data = fr.values)\n",
    "frdf.describe()"
   ]
  },
  {
   "cell_type": "code",
   "execution_count": 10,
   "metadata": {},
   "outputs": [
    {
     "data": {
      "text/plain": [
       "<matplotlib.axes._subplots.AxesSubplot at 0x7fc1c6f37e80>"
      ]
     },
     "execution_count": 10,
     "metadata": {},
     "output_type": "execute_result"
    },
    {
     "data": {
      "image/png": "[encoded data removed]",
      "text/plain": [
       "<Figure size 720x432 with 1 Axes>"
      ]
     },
     "metadata": {},
     "output_type": "display_data"
    }
   ],
   "source": [
    "sns.boxplot(frdf)"
   ]
  },
  {
   "cell_type": "markdown",
   "metadata": {},
   "source": [
    "Посмотрим, какие продукты покупали чаще всего:"
   ]
  },
  {
   "cell_type": "code",
   "execution_count": 11,
   "metadata": {},
   "outputs": [
    {
     "data": {
      "text/plain": [
       "aca2eb7d00ea1a7b8ebd4e68314663af    527\n",
       "99a4788cb24856965c36a24e339b6058    488\n",
       "422879e10f46682990de24d770e7f83d    484\n",
       "389d119b48cf3043d311335e499d9c6b    392\n",
       "368c6c730842d78016ad823897a372db    388\n",
       "53759a2ecddad2bb87a079a1f1519f73    373\n",
       "d1c427060a0f73f6b889a5c7c61f2ac4    343\n",
       "53b36df67ebb7c41585e8d54d6772e08    323\n",
       "154e7e31ebfa092203795c972e5804a6    281\n",
       "3dd2a17168ec895c781a9191c1e95ad7    274\n",
       "2b4609f8948be18874494203496bc318    260\n",
       "Name: Product ID, dtype: int64"
      ]
     },
     "execution_count": 11,
     "metadata": {},
     "output_type": "execute_result"
    }
   ],
   "source": [
    "product_counts = df[\"Product ID\"].value_counts()\n",
    "product_counts[product_counts.values > 250]"
   ]
  },
  {
   "cell_type": "markdown",
   "metadata": {},
   "source": [
    "Как изменялось суммарное кол-во заказов в течении прошлых лет. За 2018 год данные есть только до октября."
   ]
  },
  {
   "cell_type": "code",
   "execution_count": 12,
   "metadata": {},
   "outputs": [
    {
     "data": {
      "text/html": [
       "<div>\n",
       "<style scoped>\n",
       "    .dataframe tbody tr th:only-of-type {\n",
       "        vertical-align: middle;\n",
       "    }\n",
       "\n",
       "    .dataframe tbody tr th {\n",
       "        vertical-align: top;\n",
       "    }\n",
       "\n",
       "    .dataframe thead th {\n",
       "        text-align: right;\n",
       "    }\n",
       "</style>\n",
       "<table border=\"1\" class=\"dataframe\">\n",
       "  <thead>\n",
       "    <tr style=\"text-align: right;\">\n",
       "      <th></th>\n",
       "      <th>Orders2016</th>\n",
       "      <th>Orders2017</th>\n",
       "      <th>Orders2018</th>\n",
       "    </tr>\n",
       "  </thead>\n",
       "  <tbody>\n",
       "    <tr>\n",
       "      <th>0</th>\n",
       "      <td>322</td>\n",
       "      <td>44973</td>\n",
       "      <td>53986</td>\n",
       "    </tr>\n",
       "  </tbody>\n",
       "</table>\n",
       "</div>"
      ],
      "text/plain": [
       "   Orders2016  Orders2017  Orders2018\n",
       "0         322       44973       53986"
      ]
     },
     "execution_count": 12,
     "metadata": {},
     "output_type": "execute_result"
    }
   ],
   "source": [
    "ch = pd.read_csv(\"rise\", names = [\"Orders2016\", \"Orders2017\", \"Orders2018\"])\n",
    "ch"
   ]
  },
  {
   "cell_type": "markdown",
   "metadata": {},
   "source": [
    "Посмотрим, в каких городах и штатах чаще всего производят покупки и их суммарную стоимость:"
   ]
  },
  {
   "cell_type": "code",
   "execution_count": 13,
   "metadata": {},
   "outputs": [
    {
     "data": {
      "text/html": [
       "<div>\n",
       "<style scoped>\n",
       "    .dataframe tbody tr th:only-of-type {\n",
       "        vertical-align: middle;\n",
       "    }\n",
       "\n",
       "    .dataframe tbody tr th {\n",
       "        vertical-align: top;\n",
       "    }\n",
       "\n",
       "    .dataframe thead th {\n",
       "        text-align: right;\n",
       "    }\n",
       "</style>\n",
       "<table border=\"1\" class=\"dataframe\">\n",
       "  <thead>\n",
       "    <tr style=\"text-align: right;\">\n",
       "      <th></th>\n",
       "      <th>City</th>\n",
       "      <th>State</th>\n",
       "      <th>Sum of orders</th>\n",
       "      <th>Num of orders</th>\n",
       "    </tr>\n",
       "  </thead>\n",
       "  <tbody>\n",
       "    <tr>\n",
       "      <th>0</th>\n",
       "      <td>sao paulo</td>\n",
       "      <td>SP</td>\n",
       "      <td>1914890.0</td>\n",
       "      <td>17808</td>\n",
       "    </tr>\n",
       "    <tr>\n",
       "      <th>1</th>\n",
       "      <td>rio de janeiro</td>\n",
       "      <td>RJ</td>\n",
       "      <td>992554.0</td>\n",
       "      <td>7837</td>\n",
       "    </tr>\n",
       "    <tr>\n",
       "      <th>2</th>\n",
       "      <td>belo horizonte</td>\n",
       "      <td>MG</td>\n",
       "      <td>355612.0</td>\n",
       "      <td>3144</td>\n",
       "    </tr>\n",
       "    <tr>\n",
       "      <th>3</th>\n",
       "      <td>brasilia</td>\n",
       "      <td>DF</td>\n",
       "      <td>301920.0</td>\n",
       "      <td>2392</td>\n",
       "    </tr>\n",
       "    <tr>\n",
       "      <th>4</th>\n",
       "      <td>curitiba</td>\n",
       "      <td>PR</td>\n",
       "      <td>211738.0</td>\n",
       "      <td>1751</td>\n",
       "    </tr>\n",
       "    <tr>\n",
       "      <th>5</th>\n",
       "      <td>campinas</td>\n",
       "      <td>SP</td>\n",
       "      <td>187844.0</td>\n",
       "      <td>1654</td>\n",
       "    </tr>\n",
       "    <tr>\n",
       "      <th>6</th>\n",
       "      <td>porto alegre</td>\n",
       "      <td>RS</td>\n",
       "      <td>190562.0</td>\n",
       "      <td>1612</td>\n",
       "    </tr>\n",
       "    <tr>\n",
       "      <th>7</th>\n",
       "      <td>salvador</td>\n",
       "      <td>BA</td>\n",
       "      <td>181104.0</td>\n",
       "      <td>1412</td>\n",
       "    </tr>\n",
       "    <tr>\n",
       "      <th>8</th>\n",
       "      <td>guarulhos</td>\n",
       "      <td>SP</td>\n",
       "      <td>144268.0</td>\n",
       "      <td>1329</td>\n",
       "    </tr>\n",
       "    <tr>\n",
       "      <th>9</th>\n",
       "      <td>sao bernardo do campo</td>\n",
       "      <td>SP</td>\n",
       "      <td>104541.0</td>\n",
       "      <td>1060</td>\n",
       "    </tr>\n",
       "    <tr>\n",
       "      <th>10</th>\n",
       "      <td>niteroi</td>\n",
       "      <td>RJ</td>\n",
       "      <td>117907.0</td>\n",
       "      <td>980</td>\n",
       "    </tr>\n",
       "    <tr>\n",
       "      <th>11</th>\n",
       "      <td>santo andre</td>\n",
       "      <td>SP</td>\n",
       "      <td>92028.5</td>\n",
       "      <td>890</td>\n",
       "    </tr>\n",
       "    <tr>\n",
       "      <th>12</th>\n",
       "      <td>osasco</td>\n",
       "      <td>SP</td>\n",
       "      <td>82157.8</td>\n",
       "      <td>850</td>\n",
       "    </tr>\n",
       "    <tr>\n",
       "      <th>13</th>\n",
       "      <td>santos</td>\n",
       "      <td>SP</td>\n",
       "      <td>98776.9</td>\n",
       "      <td>820</td>\n",
       "    </tr>\n",
       "    <tr>\n",
       "      <th>14</th>\n",
       "      <td>goiania</td>\n",
       "      <td>GO</td>\n",
       "      <td>106111.0</td>\n",
       "      <td>817</td>\n",
       "    </tr>\n",
       "  </tbody>\n",
       "</table>\n",
       "</div>"
      ],
      "text/plain": [
       "                     City State  Sum of orders  Num of orders\n",
       "0               sao paulo    SP      1914890.0          17808\n",
       "1          rio de janeiro    RJ       992554.0           7837\n",
       "2          belo horizonte    MG       355612.0           3144\n",
       "3                brasilia    DF       301920.0           2392\n",
       "4                curitiba    PR       211738.0           1751\n",
       "5                campinas    SP       187844.0           1654\n",
       "6            porto alegre    RS       190562.0           1612\n",
       "7                salvador    BA       181104.0           1412\n",
       "8               guarulhos    SP       144268.0           1329\n",
       "9   sao bernardo do campo    SP       104541.0           1060\n",
       "10                niteroi    RJ       117907.0            980\n",
       "11            santo andre    SP        92028.5            890\n",
       "12                 osasco    SP        82157.8            850\n",
       "13                 santos    SP        98776.9            820\n",
       "14                goiania    GO       106111.0            817"
      ]
     },
     "execution_count": 13,
     "metadata": {},
     "output_type": "execute_result"
    }
   ],
   "source": [
    "df_city = pd.read_csv(\"file3\", names = [\"City\", \"State\", \"Sum of orders\", \"Num of orders\"])\n",
    "df_city.head(15)"
   ]
  },
  {
   "cell_type": "code",
   "execution_count": 14,
   "metadata": {},
   "outputs": [
    {
     "data": {
      "image/png": "[encoded data removed]",
      "text/plain": [
       "<Figure size 720x432 with 1 Axes>"
      ]
     },
     "metadata": {},
     "output_type": "display_data"
    }
   ],
   "source": [
    "sns.stripplot(x=\"State\", y=\"Price\", data=df, jitter=True);"
   ]
  }
 ],
 "metadata": {
  "kernelspec": {
   "display_name": "Python 3",
   "language": "python",
   "name": "python3"
  },
  "language_info": {
   "codemirror_mode": {
    "name": "ipython",
    "version": 3
   },
   "file_extension": ".py",
   "mimetype": "text/x-python",
   "name": "python",
   "nbconvert_exporter": "python",
   "pygments_lexer": "ipython3",
   "version": "3.6.5"
  }
 },
 "nbformat": 4,
 "nbformat_minor": 2
}
